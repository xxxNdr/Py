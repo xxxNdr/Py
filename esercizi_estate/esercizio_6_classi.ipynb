{
 "cells": [
  {
   "cell_type": "markdown",
   "id": "cf9d6c4d",
   "metadata": {},
   "source": [
    "### ESERCIZIO 6 ###  \n",
    "\n",
    "Si vuole creare un sistema per la gestione di una biblioteca digitale. Saranno necessarie due classi: Libro e Biblioteca, con le seguenti caratteristiche.  \n",
    "\n",
    "Libro:  \n",
    "&nbsp;&nbsp;&nbsp;&nbsp; attributi di istanza:\n",
    "-   titolo, autore, anno pubblicazione, codice isbn, disponibilità.  \n",
    "\n",
    "&nbsp;&nbsp;&nbsp;&nbsp;metodi di istanza:\n",
    "-   ottieni_info (restituisce una stringa con tutte le info);\n",
    "-   presta (se disponibile imposta disponibilità a False e restituisce True, se non disponibile restituisce False);\n",
    "-   restituisci (imposta disponibile a True e restituisce True. Per semplicità, non preoccuparti di controllare se fosse già disponibile, assumiamo una restituzione valida).  \n",
    "\n",
    "Biblioteca:  \n",
    "&nbsp;&nbsp;&nbsp;&nbsp;attributi di istanza:\n",
    "-   nome (nome bibloiteca), catalogo (lista di oggetti della classe Libro, inizializzata vuota).  \n",
    "\n",
    "&nbsp;&nbsp;&nbsp;&nbsp;metodi di istanza:  \n",
    "-   aggiungi_libro (aggiunge un libro al catalogo);\n",
    "-   rimuovi_libro (prende un isbn come argomento e cerca il  libro corrispondente, se lo trova lo rimuove dalla lista e restituisce True, altrimenti False);\n",
    "-   cerca_libro (prende una stringa \"query\" e una stringa \"tipo\", dove per tipo si intende uno degli attributi di Libro, e in query viene specificato il valore richiesto (\"James Joyce\" se 'autore', 1956 se 'anno_pubblicazione', \"Moby Dick\" se 'titolo', ecc.), viene restituita una lista degli oggetti corrispondenti);\n",
    "-   mostra_catalogo (stampa tutte le info sui libri in modalità elenco);\n",
    "-   presta_libro (prende un isbn e se esiste il libro chiama il suo metodo presta(), e restituisce true in caso di successo, False altrimenti (libro non trovato));\n",
    "-   restituisci_libro (prende un isbn (stringa), cerca il libro e, se esiste, chiama il suo metodo restituisci(). Restituisce True in caso di successo, False altrimenti (libro non trovato).)  \n",
    "  \n",
    "Una volta create le classi, instanziare un po' di libri e una biblioteca; fare alcune prove di prestito e restituzione, mostrando il catalogo aggiornato ogni volta. "
   ]
  },
  {
   "cell_type": "markdown",
   "id": "b7bc6c11",
   "metadata": {},
   "source": []
  }
 ],
 "metadata": {
  "language_info": {
   "name": "python"
  }
 },
 "nbformat": 4,
 "nbformat_minor": 5
}
