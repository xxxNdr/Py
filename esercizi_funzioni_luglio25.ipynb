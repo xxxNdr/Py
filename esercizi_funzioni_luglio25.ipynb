{
 "cells": [
  {
   "cell_type": "markdown",
   "id": "952b80fe",
   "metadata": {},
   "source": [
    "#### ESERCIZIO 1. ####\n",
    "\n",
    "Scrivere una funzione per 'appiattire' una lista che può contenere liste annidate (1 solo livello di annidamento). Es [1,2 [3,4]] -> [1,2,3,4] "
   ]
  },
  {
   "cell_type": "code",
   "execution_count": null,
   "id": "d741c6bf",
   "metadata": {
    "vscode": {
     "languageId": "plaintext"
    }
   },
   "outputs": [],
   "source": []
  },
  {
   "cell_type": "markdown",
   "id": "0c7f35e0",
   "metadata": {},
   "source": [
    "#### ESERCIZIO 2. ####\n",
    "\n",
    "Scrivere una funzione che accetti 2 argomenti: una stringa che rappresenta un prezzo e contiene un numero seguito dal simbolo $ oppure €, e un numero compreso fra 1 e 99, che rappresenta uno sconto da applicare sul prezzo. La funzione restituisce il prezzo una volta applicato lo sconto."
   ]
  },
  {
   "cell_type": "code",
   "execution_count": null,
   "id": "f9bd7bd0",
   "metadata": {
    "vscode": {
     "languageId": "plaintext"
    }
   },
   "outputs": [],
   "source": []
  },
  {
   "cell_type": "markdown",
   "id": "2b1bb485",
   "metadata": {},
   "source": [
    "#### ESERCIZIO 3. ####\n",
    "\n",
    "Scrivere una funzione per formattare una data. Deve prendere in input 3 numeri corrispondenti a giorno, mese e anno e restituire una stringa. Esempio: formatta_data(2, 5, 2009) -> \"02/05/2009\"."
   ]
  },
  {
   "cell_type": "code",
   "execution_count": null,
   "id": "8d31cbe6",
   "metadata": {
    "vscode": {
     "languageId": "plaintext"
    }
   },
   "outputs": [],
   "source": []
  },
  {
   "cell_type": "markdown",
   "id": "419ae717",
   "metadata": {},
   "source": [
    "#### ESERCIZIO 4. ####\n",
    "\n",
    "Scrivere una funzione che restituisca l'unione in formato stringa di un numero arbitrario di input (concatenazione di stringhe)"
   ]
  },
  {
   "cell_type": "code",
   "execution_count": null,
   "id": "8a646d79",
   "metadata": {
    "vscode": {
     "languageId": "plaintext"
    }
   },
   "outputs": [],
   "source": []
  },
  {
   "cell_type": "markdown",
   "id": "43fea071",
   "metadata": {},
   "source": [
    "#### ESERCIZIO 5. ####\n",
    "\n",
    "Scrivere una funzione che prende in input una stringa ('nomeEvento') e un numero arbitrario di argomenti di tipo stringa ('partecipanti'), e restituisce un testo con titolo 'Evento: nomeEvento', e nelle righe sottostanti l'elenco dei partecipanti."
   ]
  },
  {
   "cell_type": "code",
   "execution_count": null,
   "id": "8ac17e7c",
   "metadata": {
    "vscode": {
     "languageId": "plaintext"
    }
   },
   "outputs": [],
   "source": []
  },
  {
   "cell_type": "markdown",
   "id": "7e8953d0",
   "metadata": {},
   "source": [
    "#### ESERCIZIO 6. ####\n",
    "\n",
    "Scrivere una funzione per calcolare una media pesata. Accetta coppie di valori (numero, peso) in numero arbitrario, normalizza i pesi (la somma di tutti i pesi deve essere uno) e restituisce il risultato del calcolo."
   ]
  },
  {
   "cell_type": "code",
   "execution_count": null,
   "id": "a7c6e621",
   "metadata": {
    "vscode": {
     "languageId": "plaintext"
    }
   },
   "outputs": [],
   "source": []
  },
  {
   "cell_type": "markdown",
   "id": "3db86bae",
   "metadata": {},
   "source": [
    "#### ESERCIZIO 7. ####\n",
    "\n",
    "Scrivere una funzione che accetti un argomento posizionale come 'nomeProdotto' e un numero arbitrario di argomenti con keyword per dettagli aggiuntivi: codice, prezzo, disponibilità. Essa deve stampare la scheda riassuntiva del prodotto."
   ]
  },
  {
   "cell_type": "code",
   "execution_count": null,
   "id": "86c44180",
   "metadata": {
    "vscode": {
     "languageId": "plaintext"
    }
   },
   "outputs": [],
   "source": []
  },
  {
   "cell_type": "markdown",
   "id": "dbc10c93",
   "metadata": {},
   "source": [
    "#### ESERCIZIO 8. ####\n",
    "\n",
    "Scrivere una funzione 'aggiornaImpostazioni()' che accetti un argomento posizionale 'impostazioniAttuali' di tipo dizionario (es. {\"tema\": \"Light\", \"lingua\": \"Italiano\"}) e un numero arbitrario di argomenti chiave. La funzione deve usare gli argomenti chiave per aggiornare le impostazioni attuali. Se ci sono argoment chiave che prima non erano presenti, li aggiunge e stampa il riassunto. (Esempio di impostazioni aggiornate: {\"tema\": \"Dark\", \"lingua\": \"italiano\", \"notifiche\": False})"
   ]
  },
  {
   "cell_type": "code",
   "execution_count": null,
   "id": "63d85fad",
   "metadata": {
    "vscode": {
     "languageId": "plaintext"
    }
   },
   "outputs": [],
   "source": []
  }
 ],
 "metadata": {
  "language_info": {
   "name": "python"
  }
 },
 "nbformat": 4,
 "nbformat_minor": 5
}
